{
 "cells": [
  {
   "cell_type": "code",
   "execution_count": 6,
   "metadata": {},
   "outputs": [],
   "source": [
    "from Conformal_mapping_of_a_coupler import *"
   ]
  },
  {
   "cell_type": "code",
   "execution_count": 7,
   "metadata": {},
   "outputs": [],
   "source": [
    "from scipy.constants import epsilon_0\n",
    "epsilon=11.75"
   ]
  },
  {
   "cell_type": "code",
   "execution_count": 11,
   "metadata": {},
   "outputs": [],
   "source": [
    "result=ConformalMapping([1,2,1,2,1,2,1])  # AB, BC, CD ..."
   ]
  },
  {
   "cell_type": "code",
   "execution_count": 12,
   "metadata": {},
   "outputs": [
    {
     "name": "stdout",
     "output_type": "stream",
     "text": [
      "Q =  [[ 0.19106657 -1.40569839  0.76437738]\n",
      " [ 0.12780205  0.39190795 -1.68693203]\n",
      " [ 0.4897834   0.08788579  0.46566054]]\n",
      "Phi =  [[ 0.27127091 -0.93704158  0.09707468]\n",
      " [ 0.34263625 -0.0982415  -1.0758205 ]\n",
      " [ 0.45226718 -0.03206024 -0.08392159]]\n",
      "Phi_inv =  [[-0.06174072 -0.19230467  2.39380407]\n",
      " [-1.07691152 -0.15682879  0.76474707]\n",
      " [ 0.07867744 -0.97644864  0.69256363]]\n",
      "None\n"
     ]
    },
    {
     "data": {
      "text/plain": [
       "array([[ 1.76353127e-10, -6.35196720e-11, -9.96237518e-12],\n",
       "       [-6.35196720e-11,  1.76241099e-10, -6.35196720e-11],\n",
       "       [-9.96237518e-12, -6.35196720e-11,  1.76353127e-10]])"
      ]
     },
     "execution_count": 12,
     "metadata": {},
     "output_type": "execute_result"
    }
   ],
   "source": [
    "result.cl()"
   ]
  },
  {
   "cell_type": "code",
   "execution_count": 13,
   "metadata": {},
   "outputs": [
    {
     "data": {
      "text/plain": [
       "array([[4.84420422e-07, 2.11971717e-07, 1.03714361e-07],\n",
       "       [2.11971717e-07, 5.55263156e-07, 2.11971717e-07],\n",
       "       [1.03714361e-07, 2.11971717e-07, 4.84420422e-07]])"
      ]
     },
     "execution_count": 13,
     "metadata": {},
     "output_type": "execute_result"
    }
   ],
   "source": [
    "result.Ll()"
   ]
  },
  {
   "cell_type": "code",
   "execution_count": null,
   "metadata": {},
   "outputs": [],
   "source": []
  }
 ],
 "metadata": {
  "kernelspec": {
   "display_name": "Python 3",
   "language": "python",
   "name": "python3"
  },
  "language_info": {
   "codemirror_mode": {
    "name": "ipython",
    "version": 3
   },
   "file_extension": ".py",
   "mimetype": "text/x-python",
   "name": "python",
   "nbconvert_exporter": "python",
   "pygments_lexer": "ipython3",
   "version": "3.7.3"
  }
 },
 "nbformat": 4,
 "nbformat_minor": 2
}
